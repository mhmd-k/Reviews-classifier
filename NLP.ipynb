{
  "cells": [
    {
      "cell_type": "code",
      "execution_count": 3,
      "metadata": {
        "id": "QK0cNHYeM3Sx"
      },
      "outputs": [],
      "source": [
        "import tensorflow as tf\n",
        "from tensorflow import keras\n",
        "from tensorflow.keras.preprocessing.text import Tokenizer\n",
        "from tensorflow.keras.preprocessing.sequence import pad_sequences\n",
        "from tensorflow.keras.utils import to_categorical\n",
        "import pandas as pd\n",
        "import numpy as np\n",
        "from tensorflow.keras.preprocessing.sequence import pad_sequences"
      ]
    },
    {
      "cell_type": "markdown",
      "source": [
        "Reading Data"
      ],
      "metadata": {
        "id": "O8Mu1Jcl3bN1"
      }
    },
    {
      "cell_type": "code",
      "source": [
        "from google.colab import drive\n",
        "drive.mount('/content/drive')\n",
        "data = pd.read_csv(\"/content/drive/My Drive/yelp.csv\")"
      ],
      "metadata": {
        "colab": {
          "base_uri": "https://localhost:8080/"
        },
        "id": "EusyILk_5C6j",
        "outputId": "5d542e98-438d-4b20-de4d-7d13d21424bb"
      },
      "execution_count": 4,
      "outputs": [
        {
          "output_type": "stream",
          "name": "stdout",
          "text": [
            "Drive already mounted at /content/drive; to attempt to forcibly remount, call drive.mount(\"/content/drive\", force_remount=True).\n"
          ]
        }
      ]
    },
    {
      "cell_type": "markdown",
      "source": [
        "The number of Rows in our data"
      ],
      "metadata": {
        "id": "tIjpq8qe3nPZ"
      }
    },
    {
      "cell_type": "code",
      "source": [
        "len(data)"
      ],
      "metadata": {
        "colab": {
          "base_uri": "https://localhost:8080/"
        },
        "id": "A7Y6kpRr3tvx",
        "outputId": "86790d82-4f9a-461f-ce2c-0c392cd70424"
      },
      "execution_count": 5,
      "outputs": [
        {
          "output_type": "execute_result",
          "data": {
            "text/plain": [
              "10000"
            ]
          },
          "metadata": {},
          "execution_count": 5
        }
      ]
    },
    {
      "cell_type": "code",
      "source": [
        "features = data.text\n",
        "labels = data.stars - 1"
      ],
      "metadata": {
        "id": "ku8rItAou4MY"
      },
      "execution_count": 6,
      "outputs": []
    },
    {
      "cell_type": "markdown",
      "source": [
        "Getting the Longest Sentence's number of words"
      ],
      "metadata": {
        "id": "UJdC-gHT8lod"
      }
    },
    {
      "cell_type": "code",
      "source": [
        "data['split_text'] = data['text'].str.split()\n",
        "data['length'] = data['split_text'].apply(lambda x: len(x))\n",
        "np.max(data[\"length\"])"
      ],
      "metadata": {
        "id": "_NiQE4RErqG2",
        "outputId": "f0ac9256-2728-433b-f6fd-cafe17cb543b",
        "colab": {
          "base_uri": "https://localhost:8080/"
        }
      },
      "execution_count": 7,
      "outputs": [
        {
          "output_type": "execute_result",
          "data": {
            "text/plain": [
              "945"
            ]
          },
          "metadata": {},
          "execution_count": 7
        }
      ]
    },
    {
      "cell_type": "markdown",
      "source": [
        "Creating the Tokenizer"
      ],
      "metadata": {
        "id": "ezEUvlJTCQia"
      }
    },
    {
      "cell_type": "code",
      "source": [
        "max_sequence_length = 900\n",
        "\n",
        "tokenizer = Tokenizer(\n",
        "    filters='!\"#$%&()*+,-./:;<=>?@[\\\\]^_`{|}~\\t\\n',\n",
        "    oov_token=\"<oov>\",\n",
        "    lower=True\n",
        "    )"
      ],
      "metadata": {
        "id": "vuqQ6g8BCO-8"
      },
      "execution_count": 8,
      "outputs": []
    },
    {
      "cell_type": "markdown",
      "source": [
        "Updateing the tokenizer’s internal vocabulary based on a list of texts(features)."
      ],
      "metadata": {
        "id": "TyXlQb16Ccjg"
      }
    },
    {
      "cell_type": "code",
      "source": [
        "tokenizer.fit_on_texts(features)"
      ],
      "metadata": {
        "id": "RVAJN4CrCiLj"
      },
      "execution_count": 9,
      "outputs": []
    },
    {
      "cell_type": "markdown",
      "source": [
        "Transforming each review into an array of integers"
      ],
      "metadata": {
        "id": "jgvXJdKeColw"
      }
    },
    {
      "cell_type": "code",
      "source": [
        "sequences = tokenizer.texts_to_sequences(features)"
      ],
      "metadata": {
        "id": "d2JSQrECCvDB"
      },
      "execution_count": 10,
      "outputs": []
    },
    {
      "cell_type": "markdown",
      "source": [
        "Getting the word-to-index dictionary from the tokenizer"
      ],
      "metadata": {
        "id": "DJO_tqvLCz9g"
      }
    },
    {
      "cell_type": "code",
      "source": [
        "word_index = tokenizer.word_index"
      ],
      "metadata": {
        "id": "Ur9gjbICC2u8"
      },
      "execution_count": 11,
      "outputs": []
    },
    {
      "cell_type": "markdown",
      "source": [
        "Apply Padding to sequences"
      ],
      "metadata": {
        "id": "2dD0gSvWC_hA"
      }
    },
    {
      "cell_type": "code",
      "source": [
        "padded_sequences = pad_sequences(sequences, padding='pre', maxlen=max_sequence_length, truncating='pre')"
      ],
      "metadata": {
        "id": "kdQex80aDOeg"
      },
      "execution_count": 12,
      "outputs": []
    },
    {
      "cell_type": "markdown",
      "source": [
        "Spliting the data into training and testing"
      ],
      "metadata": {
        "id": "n8X-WWM-DPJ7"
      }
    },
    {
      "cell_type": "code",
      "source": [
        "train_reviews = padded_sequences[:9000]\n",
        "train_labels = to_categorical(labels[:9000], num_classes=5)\n",
        "test_reviews = padded_sequences[9000:]\n",
        "test_labels = to_categorical(labels[9000:], num_classes=5)"
      ],
      "metadata": {
        "id": "G-JtrA2quKij"
      },
      "execution_count": 13,
      "outputs": []
    },
    {
      "cell_type": "markdown",
      "source": [
        "Building the Model"
      ],
      "metadata": {
        "id": "xReVgUgSDUTK"
      }
    },
    {
      "cell_type": "code",
      "execution_count": 24,
      "metadata": {
        "id": "Elsnua7aM3S1"
      },
      "outputs": [],
      "source": [
        "model = tf.keras.models.Sequential([\n",
        "    tf.keras.layers.Embedding(40000, 100, input_length=max_sequence_length),\n",
        "    tf.keras.layers.GlobalAveragePooling1D(),\n",
        "    tf.keras.layers.Dense(64, activation='relu'),\n",
        "    tf.keras.layers.Dense(5, activation='softmax')\n",
        "])\n",
        "\n",
        "model.compile(loss='categorical_crossentropy', optimizer=\"Adam\", metrics=['accuracy'])"
      ]
    },
    {
      "cell_type": "markdown",
      "source": [
        "Training the Model"
      ],
      "metadata": {
        "id": "LoqIThjPDZeT"
      }
    },
    {
      "cell_type": "code",
      "source": [
        "history = model.fit(\n",
        "    train_reviews,\n",
        "    train_labels,\n",
        "    epochs=10,\n",
        "    batch_size=30,\n",
        "    validation_data=(test_reviews, test_labels)\n",
        ")"
      ],
      "metadata": {
        "colab": {
          "base_uri": "https://localhost:8080/"
        },
        "id": "-hgooZoyDbw2",
        "outputId": "8cb29a90-7160-41cb-a559-5d486b0d68fb"
      },
      "execution_count": 25,
      "outputs": [
        {
          "output_type": "stream",
          "name": "stdout",
          "text": [
            "Epoch 1/10\n",
            "300/300 [==============================] - 28s 90ms/step - loss: 1.4357 - accuracy: 0.3484 - val_loss: 1.3869 - val_accuracy: 0.3830\n",
            "Epoch 2/10\n",
            "300/300 [==============================] - 15s 51ms/step - loss: 1.3959 - accuracy: 0.3662 - val_loss: 1.3297 - val_accuracy: 0.3800\n",
            "Epoch 3/10\n",
            "300/300 [==============================] - 11s 36ms/step - loss: 1.2618 - accuracy: 0.4219 - val_loss: 1.1825 - val_accuracy: 0.4520\n",
            "Epoch 4/10\n",
            "300/300 [==============================] - 6s 20ms/step - loss: 1.1168 - accuracy: 0.4851 - val_loss: 1.1024 - val_accuracy: 0.5080\n",
            "Epoch 5/10\n",
            "300/300 [==============================] - 6s 21ms/step - loss: 1.0147 - accuracy: 0.5458 - val_loss: 1.0569 - val_accuracy: 0.5250\n",
            "Epoch 6/10\n",
            "300/300 [==============================] - 5s 16ms/step - loss: 0.9244 - accuracy: 0.5951 - val_loss: 1.0387 - val_accuracy: 0.5470\n",
            "Epoch 7/10\n",
            "300/300 [==============================] - 4s 14ms/step - loss: 0.8492 - accuracy: 0.6394 - val_loss: 1.0349 - val_accuracy: 0.5430\n",
            "Epoch 8/10\n",
            "300/300 [==============================] - 4s 14ms/step - loss: 0.7897 - accuracy: 0.6659 - val_loss: 1.0816 - val_accuracy: 0.5360\n",
            "Epoch 9/10\n",
            "300/300 [==============================] - 3s 10ms/step - loss: 0.7381 - accuracy: 0.6906 - val_loss: 1.0905 - val_accuracy: 0.5450\n",
            "Epoch 10/10\n",
            "300/300 [==============================] - 3s 9ms/step - loss: 0.6793 - accuracy: 0.7293 - val_loss: 1.0763 - val_accuracy: 0.5570\n"
          ]
        }
      ]
    },
    {
      "cell_type": "markdown",
      "source": [
        "Evaluating the model on the test data"
      ],
      "metadata": {
        "id": "m6EUNTdgBa8k"
      }
    },
    {
      "cell_type": "code",
      "execution_count": 26,
      "metadata": {
        "id": "n0QTnfmDM3S2",
        "outputId": "0c7d57bf-1155-4fe5-dadc-360f4df3549d",
        "colab": {
          "base_uri": "https://localhost:8080/"
        }
      },
      "outputs": [
        {
          "output_type": "stream",
          "name": "stdout",
          "text": [
            "32/32 [==============================] - 0s 2ms/step - loss: 1.0763 - accuracy: 0.5570\n",
            "Test loss: 1.0763270854949951\n",
            "Test accuracy: 0.5569999814033508\n"
          ]
        }
      ],
      "source": [
        "loss, accuracy = model.evaluate(test_reviews, test_labels)\n",
        "\n",
        "print(\"Test loss:\", loss)\n",
        "print(\"Test accuracy:\", accuracy)\n"
      ]
    },
    {
      "cell_type": "code",
      "source": [
        "import matplotlib.pyplot as plt\n",
        "\n",
        "def plot_graphs(history, string):\n",
        "  plt.plot(history.history[string])\n",
        "  plt.plot(history.history['val_'+string])\n",
        "  plt.xlabel(\"Epochs\")\n",
        "  plt.ylabel(string)\n",
        "  plt.legend([string, 'val_'+string])\n",
        "  plt.show()\n",
        "\n",
        "plot_graphs(history, \"accuracy\")\n",
        "plot_graphs(history, \"loss\")"
      ],
      "metadata": {
        "colab": {
          "base_uri": "https://localhost:8080/",
          "height": 881
        },
        "id": "kNKDrsd-Mb2w",
        "outputId": "4833c930-a696-436d-c034-8434062de68f"
      },
      "execution_count": 27,
      "outputs": [
        {
          "output_type": "display_data",
          "data": {
            "text/plain": [
              "<Figure size 640x480 with 1 Axes>"
            ],
            "image/png": "[encoded data removed]"
          },
          "metadata": {}
        },
        {
          "output_type": "display_data",
          "data": {
            "text/plain": [
              "<Figure size 640x480 with 1 Axes>"
            ],
            "image/png": "[encoded data removed]"
          },
          "metadata": {}
        }
      ]
    },
    {
      "cell_type": "markdown",
      "source": [
        "Testing in a single review"
      ],
      "metadata": {
        "id": "bc7JtI2YD2bU"
      }
    },
    {
      "cell_type": "code",
      "execution_count": 28,
      "metadata": {
        "id": "NP5DHxS5M3S3",
        "outputId": "0e9fe35c-dc30-481f-da01-3acc5c4ac7ec",
        "colab": {
          "base_uri": "https://localhost:8080/"
        }
      },
      "outputs": [
        {
          "output_type": "stream",
          "name": "stdout",
          "text": [
            "1/1 [==============================] - 0s 416ms/step\n",
            "Predicted rating: 1\n"
          ]
        }
      ],
      "source": [
        "review = \"i did not like the food and i had the worst experience ever, i am not going back definitly\"\n",
        "\n",
        "review_sequence = tokenizer.texts_to_sequences([review])\n",
        "review_padded = pad_sequences(review_sequence, maxlen=max_sequence_length,padding=\"pre\",truncating=\"pre\")\n",
        "\n",
        "predictions = model.predict(review_padded)\n",
        "predicted_label = np.argmax(predictions)\n",
        "\n",
        "predicted_rating = predicted_label + 1\n",
        "\n",
        "print(\"Predicted rating:\", predicted_rating)"
      ]
    },
    {
      "cell_type": "code",
      "source": [],
      "metadata": {
        "id": "7wssjaZTFzwI"
      },
      "execution_count": null,
      "outputs": []
    }
  ],
  "metadata": {
    "kernelspec": {
      "display_name": "Python 3",
      "name": "python3"
    },
    "language_info": {
      "codemirror_mode": {
        "name": "ipython",
        "version": 3
      },
      "file_extension": ".py",
      "mimetype": "text/x-python",
      "name": "python",
      "nbconvert_exporter": "python",
      "pygments_lexer": "ipython3",
      "version": "3.10.11"
    },
    "colab": {
      "provenance": [],
      "gpuType": "T4"
    },
    "accelerator": "GPU"
  },
  "nbformat": 4,
  "nbformat_minor": 0
}