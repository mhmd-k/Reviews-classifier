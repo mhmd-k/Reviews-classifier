{
  "cells": [
    {
      "cell_type": "code",
      "execution_count": 1,
      "metadata": {
        "id": "QK0cNHYeM3Sx"
      },
      "outputs": [],
      "source": [
        "import tensorflow as tf\n",
        "from tensorflow import keras\n",
        "from tensorflow.keras.preprocessing.text import Tokenizer\n",
        "from tensorflow.keras.preprocessing.sequence import pad_sequences\n",
        "from tensorflow.keras.utils import to_categorical\n",
        "import pandas as pd\n",
        "import numpy as np\n",
        "from tensorflow.keras.preprocessing.sequence import pad_sequences"
      ]
    },
    {
      "cell_type": "markdown",
      "source": [
        "Reading Data"
      ],
      "metadata": {
        "id": "O8Mu1Jcl3bN1"
      }
    },
    {
      "cell_type": "code",
      "source": [
        "from google.colab import drive\n",
        "drive.mount('/content/drive')\n",
        "data = pd.read_csv(\"/content/drive/My Drive/yelp.csv\")"
      ],
      "metadata": {
        "colab": {
          "base_uri": "https://localhost:8080/"
        },
        "id": "EusyILk_5C6j",
        "outputId": "77bf24b3-fd9a-42bd-b037-7de129611330"
      },
      "execution_count": 2,
      "outputs": [
        {
          "output_type": "stream",
          "name": "stdout",
          "text": [
            "Mounted at /content/drive\n"
          ]
        }
      ]
    },
    {
      "cell_type": "markdown",
      "source": [
        "The number of Rows in our data"
      ],
      "metadata": {
        "id": "tIjpq8qe3nPZ"
      }
    },
    {
      "cell_type": "code",
      "source": [
        "len(data)"
      ],
      "metadata": {
        "colab": {
          "base_uri": "https://localhost:8080/"
        },
        "id": "A7Y6kpRr3tvx",
        "outputId": "97003210-98e7-47f1-b9a4-5cd6840439a5"
      },
      "execution_count": 3,
      "outputs": [
        {
          "output_type": "execute_result",
          "data": {
            "text/plain": [
              "10000"
            ]
          },
          "metadata": {},
          "execution_count": 3
        }
      ]
    },
    {
      "cell_type": "code",
      "source": [
        "features = data.text\n",
        "labels = data.stars - 1"
      ],
      "metadata": {
        "id": "ku8rItAou4MY"
      },
      "execution_count": 4,
      "outputs": []
    },
    {
      "cell_type": "markdown",
      "source": [
        "Getting the Longest Sentence's number of words"
      ],
      "metadata": {
        "id": "UJdC-gHT8lod"
      }
    },
    {
      "cell_type": "code",
      "source": [
        "data['split_text'] = data['text'].str.split()\n",
        "data['length'] = data['split_text'].apply(lambda x: len(x))\n",
        "np.max(data[\"length\"])"
      ],
      "metadata": {
        "id": "_NiQE4RErqG2",
        "outputId": "d7164369-d111-4b3e-cdf1-0c2d7bdcf008",
        "colab": {
          "base_uri": "https://localhost:8080/"
        }
      },
      "execution_count": 5,
      "outputs": [
        {
          "output_type": "execute_result",
          "data": {
            "text/plain": [
              "945"
            ]
          },
          "metadata": {},
          "execution_count": 5
        }
      ]
    },
    {
      "cell_type": "markdown",
      "source": [
        "Creating the Tokenizer"
      ],
      "metadata": {
        "id": "ezEUvlJTCQia"
      }
    },
    {
      "cell_type": "code",
      "source": [
        "max_sequence_length = 900\n",
        "\n",
        "tokenizer = Tokenizer(\n",
        "    filters='!\"#$%&()*+,-./:;<=>?@[\\\\]^_`{|}~\\t\\n',\n",
        "    oov_token=\"<oov>\",\n",
        "    lower=True\n",
        "    )"
      ],
      "metadata": {
        "id": "vuqQ6g8BCO-8"
      },
      "execution_count": 27,
      "outputs": []
    },
    {
      "cell_type": "markdown",
      "source": [
        "Updateing the tokenizer’s internal vocabulary based on a list of texts(features)."
      ],
      "metadata": {
        "id": "TyXlQb16Ccjg"
      }
    },
    {
      "cell_type": "code",
      "source": [
        "tokenizer.fit_on_texts(features)"
      ],
      "metadata": {
        "id": "RVAJN4CrCiLj"
      },
      "execution_count": 28,
      "outputs": []
    },
    {
      "cell_type": "markdown",
      "source": [
        "Transforming each review into an array of integers"
      ],
      "metadata": {
        "id": "jgvXJdKeColw"
      }
    },
    {
      "cell_type": "code",
      "source": [
        "sequences = tokenizer.texts_to_sequences(features)"
      ],
      "metadata": {
        "id": "d2JSQrECCvDB"
      },
      "execution_count": 29,
      "outputs": []
    },
    {
      "cell_type": "markdown",
      "source": [
        "Getting the word-to-index dictionary from the tokenizer"
      ],
      "metadata": {
        "id": "DJO_tqvLCz9g"
      }
    },
    {
      "cell_type": "code",
      "source": [
        "word_index = tokenizer.word_index"
      ],
      "metadata": {
        "id": "Ur9gjbICC2u8"
      },
      "execution_count": 30,
      "outputs": []
    },
    {
      "cell_type": "markdown",
      "source": [
        "Apply Padding to sequences"
      ],
      "metadata": {
        "id": "2dD0gSvWC_hA"
      }
    },
    {
      "cell_type": "code",
      "source": [
        "padded_sequences = pad_sequences(sequences, padding='pre', maxlen=max_sequence_length, truncating='pre')"
      ],
      "metadata": {
        "id": "kdQex80aDOeg"
      },
      "execution_count": 31,
      "outputs": []
    },
    {
      "cell_type": "markdown",
      "source": [
        "Spliting the data into training and testing"
      ],
      "metadata": {
        "id": "n8X-WWM-DPJ7"
      }
    },
    {
      "cell_type": "code",
      "source": [
        "train_reviews = padded_sequences[:9000]\n",
        "train_labels = to_categorical(labels[:9000], num_classes=5)\n",
        "test_reviews = padded_sequences[9000:]\n",
        "test_labels = to_categorical(labels[9000:], num_classes=5)"
      ],
      "metadata": {
        "id": "G-JtrA2quKij"
      },
      "execution_count": 32,
      "outputs": []
    },
    {
      "cell_type": "markdown",
      "source": [
        "Building the Model"
      ],
      "metadata": {
        "id": "xReVgUgSDUTK"
      }
    },
    {
      "cell_type": "code",
      "execution_count": 33,
      "metadata": {
        "id": "Elsnua7aM3S1"
      },
      "outputs": [],
      "source": [
        "model = tf.keras.models.Sequential([\n",
        "    tf.keras.layers.Embedding(len(word_index) + 1, 100, input_length=max_sequence_length),\n",
        "    tf.keras.layers.GlobalAveragePooling1D(),\n",
        "    tf.keras.layers.Dropout(0.3),\n",
        "    tf.keras.layers.Dense(64, activation='relu'),\n",
        "    tf.keras.layers.Dropout(0.3),\n",
        "    tf.keras.layers.Dense(5, activation='softmax')\n",
        "])\n",
        "\n",
        "model.compile(loss='categorical_crossentropy', optimizer=\"Adam\", metrics=['accuracy'])"
      ]
    },
    {
      "cell_type": "markdown",
      "source": [
        "Training the Model"
      ],
      "metadata": {
        "id": "LoqIThjPDZeT"
      }
    },
    {
      "cell_type": "code",
      "source": [
        "history = model.fit(\n",
        "    train_reviews,\n",
        "    train_labels,\n",
        "    epochs=10,\n",
        "    batch_size=30,\n",
        "    validation_data=(test_reviews, test_labels)\n",
        ")"
      ],
      "metadata": {
        "colab": {
          "base_uri": "https://localhost:8080/"
        },
        "id": "-hgooZoyDbw2",
        "outputId": "6c2d0ff5-72c3-476a-bc92-50aebbb5fa2b"
      },
      "execution_count": 34,
      "outputs": [
        {
          "output_type": "stream",
          "name": "stdout",
          "text": [
            "Epoch 1/10\n",
            "300/300 [==============================] - 6s 19ms/step - loss: 1.4450 - accuracy: 0.3454 - val_loss: 1.3883 - val_accuracy: 0.3780\n",
            "Epoch 2/10\n",
            "300/300 [==============================] - 6s 21ms/step - loss: 1.4155 - accuracy: 0.3538 - val_loss: 1.3646 - val_accuracy: 0.3910\n",
            "Epoch 3/10\n",
            "300/300 [==============================] - 6s 19ms/step - loss: 1.3507 - accuracy: 0.3777 - val_loss: 1.2585 - val_accuracy: 0.4600\n",
            "Epoch 4/10\n",
            "300/300 [==============================] - 6s 21ms/step - loss: 1.2069 - accuracy: 0.4392 - val_loss: 1.1407 - val_accuracy: 0.4930\n",
            "Epoch 5/10\n",
            "300/300 [==============================] - 6s 20ms/step - loss: 1.0954 - accuracy: 0.4994 - val_loss: 1.0811 - val_accuracy: 0.5080\n",
            "Epoch 6/10\n",
            "300/300 [==============================] - 6s 21ms/step - loss: 1.0102 - accuracy: 0.5473 - val_loss: 1.0454 - val_accuracy: 0.5230\n",
            "Epoch 7/10\n",
            "300/300 [==============================] - 6s 19ms/step - loss: 0.9291 - accuracy: 0.6000 - val_loss: 1.0335 - val_accuracy: 0.5360\n",
            "Epoch 8/10\n",
            "300/300 [==============================] - 7s 23ms/step - loss: 0.8668 - accuracy: 0.6269 - val_loss: 1.0269 - val_accuracy: 0.5530\n",
            "Epoch 9/10\n",
            "300/300 [==============================] - 7s 25ms/step - loss: 0.8055 - accuracy: 0.6587 - val_loss: 1.0321 - val_accuracy: 0.5480\n",
            "Epoch 10/10\n",
            "300/300 [==============================] - 7s 22ms/step - loss: 0.7602 - accuracy: 0.6800 - val_loss: 1.0549 - val_accuracy: 0.5580\n"
          ]
        }
      ]
    },
    {
      "cell_type": "markdown",
      "source": [
        "Evaluating the model on the test data"
      ],
      "metadata": {
        "id": "m6EUNTdgBa8k"
      }
    },
    {
      "cell_type": "code",
      "execution_count": 35,
      "metadata": {
        "id": "n0QTnfmDM3S2",
        "outputId": "8e4354da-770e-4f88-ebfb-0ade19218107",
        "colab": {
          "base_uri": "https://localhost:8080/"
        }
      },
      "outputs": [
        {
          "output_type": "stream",
          "name": "stdout",
          "text": [
            "32/32 [==============================] - 0s 3ms/step - loss: 1.0549 - accuracy: 0.5580\n",
            "Test loss: 1.0548855066299438\n",
            "Test accuracy: 0.5580000281333923\n"
          ]
        }
      ],
      "source": [
        "loss, accuracy = model.evaluate(test_reviews, test_labels)\n",
        "\n",
        "print(\"Test loss:\", loss)\n",
        "print(\"Test accuracy:\", accuracy)\n"
      ]
    },
    {
      "cell_type": "code",
      "source": [
        "import matplotlib.pyplot as plt\n",
        "\n",
        "def plot_graphs(history, string):\n",
        "  plt.plot(history.history[string])\n",
        "  plt.plot(history.history['val_'+string])\n",
        "  plt.xlabel(\"Epochs\")\n",
        "  plt.ylabel(string)\n",
        "  plt.legend([string, 'val_'+string])\n",
        "  plt.show()\n",
        "\n",
        "plot_graphs(history, \"accuracy\")\n",
        "plot_graphs(history, \"loss\")"
      ],
      "metadata": {
        "colab": {
          "base_uri": "https://localhost:8080/",
          "height": 881
        },
        "id": "kNKDrsd-Mb2w",
        "outputId": "14eee665-2b88-4162-c48e-a15a78acdfc7"
      },
      "execution_count": 17,
      "outputs": [
        {
          "output_type": "display_data",
          "data": {
            "text/plain": [
              "<Figure size 640x480 with 1 Axes>"
            ],
            "image/png": "[encoded data removed]"
          },
          "metadata": {}
        },
        {
          "output_type": "display_data",
          "data": {
            "text/plain": [
              "<Figure size 640x480 with 1 Axes>"
            ],
            "image/png": "[encoded data removed]"
          },
          "metadata": {}
        }
      ]
    },
    {
      "cell_type": "markdown",
      "source": [
        "Testing in a single review"
      ],
      "metadata": {
        "id": "bc7JtI2YD2bU"
      }
    },
    {
      "cell_type": "code",
      "execution_count": 122,
      "metadata": {
        "id": "NP5DHxS5M3S3",
        "outputId": "3e34b688-95b7-4cd3-8ac2-cf6850e7e602",
        "colab": {
          "base_uri": "https://localhost:8080/"
        }
      },
      "outputs": [
        {
          "output_type": "stream",
          "name": "stdout",
          "text": [
            "1/1 [==============================] - 0s 48ms/step\n",
            "Predicted rating: 5\n"
          ]
        }
      ],
      "source": [
        "review = \"i did not like the food and i had the worst experience ever, i am not going back definitly\"\n",
        "\n",
        "review_sequence = tokenizer.texts_to_sequences([review])\n",
        "review_padded = pad_sequences(review_sequence, maxlen=max_sequence_length,padding=\"pre\",truncating=\"pre\")\n",
        "\n",
        "predictions = model.predict(review_padded)\n",
        "predicted_label = np.argmax(predictions)\n",
        "\n",
        "predicted_rating = predicted_label + 1\n",
        "\n",
        "print(\"Predicted rating:\", predicted_rating)"
      ]
    },
    {
      "cell_type": "code",
      "source": [],
      "metadata": {
        "id": "7wssjaZTFzwI"
      },
      "execution_count": null,
      "outputs": []
    }
  ],
  "metadata": {
    "kernelspec": {
      "display_name": "Python 3",
      "name": "python3"
    },
    "language_info": {
      "codemirror_mode": {
        "name": "ipython",
        "version": 3
      },
      "file_extension": ".py",
      "mimetype": "text/x-python",
      "name": "python",
      "nbconvert_exporter": "python",
      "pygments_lexer": "ipython3",
      "version": "3.10.11"
    },
    "colab": {
      "provenance": [],
      "gpuType": "T4"
    },
    "accelerator": "GPU"
  },
  "nbformat": 4,
  "nbformat_minor": 0
}